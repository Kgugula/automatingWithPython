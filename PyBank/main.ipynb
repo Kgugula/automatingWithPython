{
 "cells": [
  {
   "cell_type": "code",
   "execution_count": 2,
   "metadata": {},
   "outputs": [],
   "source": [
    "import csv"
   ]
  },
  {
   "cell_type": "code",
   "execution_count": 9,
   "metadata": {},
   "outputs": [],
   "source": [
    "financial_data = []\n",
    "dates = []\n",
    "\n",
    "total_months = 0\n",
    "net_total_pnl = 0\n",
    "\n",
    "with open('Python_Dataset.csv', 'r') as pybank_data:\n",
    "    csv_reader = csv.reader(pybank_data, delimiter=\",\")\n",
    "    next(pybank_data)\n",
    "    for line in csv_reader:\n",
    "        dates.append(line[0])\n",
    "        financial_data.append(int(line[1]))\n",
    "    for date in dates:\n",
    "        total_months += 1\n",
    "    for monthly_data in financial_data:\n",
    "        net_total_pnl += (monthly_data)\n",
    "        "
   ]
  },
  {
   "cell_type": "code",
   "execution_count": 10,
   "metadata": {},
   "outputs": [
    {
     "name": "stdout",
     "output_type": "stream",
     "text": [
      "38382578\n"
     ]
    }
   ],
   "source": [
    "print (net_total_pnl)"
   ]
  },
  {
   "cell_type": "code",
   "execution_count": null,
   "metadata": {},
   "outputs": [],
   "source": []
  }
 ],
 "metadata": {
  "kernelspec": {
   "display_name": "Python 3",
   "language": "python",
   "name": "python3"
  },
  "language_info": {
   "codemirror_mode": {
    "name": "ipython",
    "version": 3
   },
   "file_extension": ".py",
   "mimetype": "text/x-python",
   "name": "python",
   "nbconvert_exporter": "python",
   "pygments_lexer": "ipython3",
   "version": "3.8.3"
  }
 },
 "nbformat": 4,
 "nbformat_minor": 4
}
