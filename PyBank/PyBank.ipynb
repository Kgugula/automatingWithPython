{
 "cells": [
  {
   "cell_type": "code",
   "execution_count": 1,
   "metadata": {},
   "outputs": [],
   "source": [
    "# Import libraries\n",
    "\n",
    "import csv\n",
    "from pathlib import Path"
   ]
  },
  {
   "cell_type": "code",
   "execution_count": 2,
   "metadata": {},
   "outputs": [],
   "source": [
    "# Initialize variables\n",
    "\n",
    "financial_data = []\n",
    "dates = []\n",
    "\n",
    "total_months = 0\n",
    "net_total_pnl = 0\n",
    "\n",
    "greatest_profit = []\n",
    "greatest_loss = []\n",
    "\n",
    "# Open flat file in 'read mode', skip header\n",
    "\n",
    "with open('Python_Dataset.csv', 'r') as pybank_data:\n",
    "    csv_reader = csv.reader(pybank_data, delimiter=\",\")\n",
    "    next(pybank_data)\n",
    "\n",
    "# Split dates and pnl data into separate lists, iterate over to find total months and sum pnl\n",
    " \n",
    "    for line in csv_reader:\n",
    "        dates.append(line[0])\n",
    "        financial_data.append(int(line[1]))\n",
    "    for date in dates:\n",
    "        total_months += 1\n",
    "    for monthly_data in financial_data:\n",
    "        net_total_pnl += monthly_data\n",
    "\n",
    "# Combine two lists created, format into dict where 'pnl' is the key\n",
    "   \n",
    "    combined_dict = dict(zip(financial_data, dates))\n",
    "    \n",
    "    for pnl, date in combined_dict.items():\n",
    "        if greatest_profit == [] and greatest_loss == []:\n",
    "            greatest_profit.append(pnl)\n",
    "            greatest_loss.append(pnl)\n",
    "        elif pnl < greatest_loss[0]:\n",
    "            greatest_loss.pop()\n",
    "            greatest_loss.append(pnl)\n",
    "        elif pnl > greatest_profit[0]:\n",
    "            greatest_profit.pop()\n",
    "            greatest_profit.append(pnl)\n",
    "\n",
    "# Once max and min values found, search for them in combined dict\n",
    "# and create variable to hold corresponding (value) which is the date\n",
    "\n",
    "greatest_profit_date = (combined_dict[greatest_loss[0]])\n",
    "greatest_loss_date = (combined_dict[greatest_profit[0]])"
   ]
  },
  {
   "cell_type": "code",
   "execution_count": 3,
   "metadata": {},
   "outputs": [],
   "source": [
    "# To calculate average change in values, iterate through financial_data\n",
    "# and subtract current iteration from prev_value, append to new list\n",
    "\n",
    "change_in_values = []\n",
    "prev_value = 0\n",
    "\n",
    "for monthly_data in financial_data:\n",
    "    if prev_value != 0:\n",
    "        change_in_values.append(monthly_data-prev_value)\n",
    "    prev_value = monthly_data\n",
    "        \n",
    "\n",
    "    "
   ]
  },
  {
   "cell_type": "code",
   "execution_count": 4,
   "metadata": {},
   "outputs": [],
   "source": [
    "# Calculate average change from variables initiliazed above\n",
    "\n",
    "average_change = (sum(change_in_values) / len(change_in_values))"
   ]
  },
  {
   "cell_type": "code",
   "execution_count": 5,
   "metadata": {},
   "outputs": [],
   "source": [
    "# Initialize output path\n",
    "\n",
    "output_path = 'output.txt'\n",
    "\n",
    "# Open the output path as a file object\n",
    "with open(output_path, 'w') as file:\n",
    "    # Write daily_average to the output file, convert to string\n",
    "    file.write(f\"Financial Analysis\\n\")\n",
    "    file.write(\"---------------------------------\\n\")\n",
    "    file.write(f\"Total Months: {total_months}\\n\")\n",
    "    file.write(f\"Total: ${net_total_pnl}\\n\")\n",
    "    file.write(f\"Average Change: ${round(average_change,2)}\\n\")\n",
    "    file.write(f\"Greatest Increase in Profits: {greatest_profit_date} (${greatest_profit[0]})\\n\")\n",
    "    file.write(f\"Great Decrease in Profits: {greatest_loss_date} (${greatest_loss[0]})\\n\")"
   ]
  },
  {
   "cell_type": "code",
   "execution_count": 6,
   "metadata": {},
   "outputs": [
    {
     "name": "stdout",
     "output_type": "stream",
     "text": [
      "Financial Analysis\n",
      "\n",
      "---------------------------------\n",
      "\n",
      "Total Months:86\n",
      "\n",
      "Total:$38382578\n",
      "\n",
      "Average Change: $-2315.12\n",
      "\n",
      "Greatest Increase in Profits: Sep-2013 ($1170593)\n",
      "\n",
      "Great Decrease in Profits: Feb-2012 ($-1196225)\n",
      "\n"
     ]
    }
   ],
   "source": [
    "# Render output file in Jupyter notebook\n",
    "\n",
    "print(f\"Financial Analysis\\n\")\n",
    "print(\"---------------------------------\\n\")\n",
    "print(f\"Total Months:{total_months}\\n\")\n",
    "print(f\"Total:${net_total_pnl}\\n\")\n",
    "print(f\"Average Change: ${round(average_change,2)}\\n\")\n",
    "print(f\"Greatest Increase in Profits: {greatest_profit_date} (${greatest_profit[0]})\\n\")\n",
    "print(f\"Great Decrease in Profits: {greatest_loss_date} (${greatest_loss[0]})\\n\")"
   ]
  },
  {
   "cell_type": "code",
   "execution_count": null,
   "metadata": {},
   "outputs": [],
   "source": []
  }
 ],
 "metadata": {
  "kernelspec": {
   "display_name": "Python 3",
   "language": "python",
   "name": "python3"
  },
  "language_info": {
   "codemirror_mode": {
    "name": "ipython",
    "version": 3
   },
   "file_extension": ".py",
   "mimetype": "text/x-python",
   "name": "python",
   "nbconvert_exporter": "python",
   "pygments_lexer": "ipython3",
   "version": "3.8.3"
  }
 },
 "nbformat": 4,
 "nbformat_minor": 4
}
